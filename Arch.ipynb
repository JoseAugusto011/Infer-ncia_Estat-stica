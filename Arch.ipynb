{
 "cells": [
  {
   "cell_type": "code",
   "execution_count": 1,
   "metadata": {},
   "outputs": [],
   "source": [
    "import pandas as pd\n",
    "import numpy as np\n"
   ]
  },
  {
   "cell_type": "code",
   "execution_count": 26,
   "metadata": {},
   "outputs": [],
   "source": [
    "a = pd.read_csv(\"T_Test.csv\")\n",
    "b = pd.read_csv(\"CB.csv\")"
   ]
  },
  {
   "cell_type": "code",
   "execution_count": 12,
   "metadata": {},
   "outputs": [
    {
     "data": {
      "text/html": [
       "<div>\n",
       "<style scoped>\n",
       "    .dataframe tbody tr th:only-of-type {\n",
       "        vertical-align: middle;\n",
       "    }\n",
       "\n",
       "    .dataframe tbody tr th {\n",
       "        vertical-align: top;\n",
       "    }\n",
       "\n",
       "    .dataframe thead th {\n",
       "        text-align: right;\n",
       "    }\n",
       "</style>\n",
       "<table border=\"1\" class=\"dataframe\">\n",
       "  <thead>\n",
       "    <tr style=\"text-align: right;\">\n",
       "      <th></th>\n",
       "      <th>Unnamed: 0</th>\n",
       "      <th>Unnamed: 1</th>\n",
       "      <th>Unnamed: 2</th>\n",
       "      <th>Unnamed: 3</th>\n",
       "      <th>Unnamed: 4</th>\n",
       "      <th>Unnamed: 5</th>\n",
       "      <th>Unnamed: 6</th>\n",
       "      <th>Unnamed: 7</th>\n",
       "      <th>Unnamed: 8</th>\n",
       "      <th>Unnamed: 9</th>\n",
       "      <th>...</th>\n",
       "      <th>Unnamed: 21</th>\n",
       "      <th>Unnamed: 22</th>\n",
       "      <th>Unnamed: 23</th>\n",
       "      <th>Unnamed: 24</th>\n",
       "      <th>Unnamed: 25</th>\n",
       "      <th>Unnamed: 26</th>\n",
       "      <th>Unnamed: 27</th>\n",
       "      <th>Unnamed: 28</th>\n",
       "      <th>Unnamed: 29</th>\n",
       "      <th>Unnamed: 30</th>\n",
       "    </tr>\n",
       "  </thead>\n",
       "  <tbody>\n",
       "    <tr>\n",
       "      <th>0</th>\n",
       "      <td>22.8</td>\n",
       "      <td>23.4</td>\n",
       "      <td>26.2</td>\n",
       "      <td>24.4</td>\n",
       "      <td>22.0</td>\n",
       "      <td>24.8</td>\n",
       "      <td>26.7</td>\n",
       "      <td>25.1</td>\n",
       "      <td>23.1</td>\n",
       "      <td>22.8</td>\n",
       "      <td>...</td>\n",
       "      <td>22.8</td>\n",
       "      <td>25.4</td>\n",
       "      <td>26.7</td>\n",
       "      <td>22.9</td>\n",
       "      <td>23.5</td>\n",
       "      <td>23.8</td>\n",
       "      <td>24.6</td>\n",
       "      <td>26.3</td>\n",
       "      <td>22.7</td>\n",
       "      <td>NaN</td>\n",
       "    </tr>\n",
       "    <tr>\n",
       "      <th>1</th>\n",
       "      <td>26.8</td>\n",
       "      <td>29.3</td>\n",
       "      <td>28.4</td>\n",
       "      <td>25.6</td>\n",
       "      <td>29.4</td>\n",
       "      <td>27.2</td>\n",
       "      <td>27.6</td>\n",
       "      <td>28.8</td>\n",
       "      <td>25.4</td>\n",
       "      <td>28.6</td>\n",
       "      <td>...</td>\n",
       "      <td>25.7</td>\n",
       "      <td>28.4</td>\n",
       "      <td>28.6</td>\n",
       "      <td>27.9</td>\n",
       "      <td>27.4</td>\n",
       "      <td>26.7</td>\n",
       "      <td>26.8</td>\n",
       "      <td>25.6</td>\n",
       "      <td>26.1</td>\n",
       "      <td>NaN</td>\n",
       "    </tr>\n",
       "  </tbody>\n",
       "</table>\n",
       "<p>2 rows × 31 columns</p>\n",
       "</div>"
      ],
      "text/plain": [
       "   Unnamed: 0  Unnamed: 1  Unnamed: 2  Unnamed: 3  Unnamed: 4  Unnamed: 5  \\\n",
       "0        22.8        23.4        26.2        24.4        22.0        24.8   \n",
       "1        26.8        29.3        28.4        25.6        29.4        27.2   \n",
       "\n",
       "   Unnamed: 6  Unnamed: 7  Unnamed: 8  Unnamed: 9  ...  Unnamed: 21  \\\n",
       "0        26.7        25.1        23.1        22.8  ...         22.8   \n",
       "1        27.6        28.8        25.4        28.6  ...         25.7   \n",
       "\n",
       "   Unnamed: 22  Unnamed: 23  Unnamed: 24  Unnamed: 25  Unnamed: 26  \\\n",
       "0         25.4         26.7         22.9         23.5         23.8   \n",
       "1         28.4         28.6         27.9         27.4         26.7   \n",
       "\n",
       "   Unnamed: 27  Unnamed: 28  Unnamed: 29  Unnamed: 30  \n",
       "0         24.6         26.3         22.7          NaN  \n",
       "1         26.8         25.6         26.1          NaN  \n",
       "\n",
       "[2 rows x 31 columns]"
      ]
     },
     "execution_count": 12,
     "metadata": {},
     "output_type": "execute_result"
    }
   ],
   "source": [
    "a"
   ]
  },
  {
   "cell_type": "code",
   "execution_count": 27,
   "metadata": {},
   "outputs": [
    {
     "data": {
      "text/html": [
       "<div>\n",
       "<style scoped>\n",
       "    .dataframe tbody tr th:only-of-type {\n",
       "        vertical-align: middle;\n",
       "    }\n",
       "\n",
       "    .dataframe tbody tr th {\n",
       "        vertical-align: top;\n",
       "    }\n",
       "\n",
       "    .dataframe thead th {\n",
       "        text-align: right;\n",
       "    }\n",
       "</style>\n",
       "<table border=\"1\" class=\"dataframe\">\n",
       "  <thead>\n",
       "    <tr style=\"text-align: right;\">\n",
       "      <th></th>\n",
       "      <th>0.50715341</th>\n",
       "      <th>0.5779675</th>\n",
       "      <th>0.49150082</th>\n",
       "      <th>0.49941647</th>\n",
       "      <th>0.69048385</th>\n",
       "      <th>0.46377689</th>\n",
       "      <th>0.46075175</th>\n",
       "      <th>0.69246371</th>\n",
       "      <th>0.70119107</th>\n",
       "      <th>0.60494232</th>\n",
       "      <th>...</th>\n",
       "      <th>0.32517011</th>\n",
       "      <th>0.46338304</th>\n",
       "      <th>0.78390633</th>\n",
       "      <th>0.27712664</th>\n",
       "      <th>0.71647649</th>\n",
       "      <th>0.55499561</th>\n",
       "      <th>0.69167171</th>\n",
       "      <th>0.55084653</th>\n",
       "      <th>0.56396469</th>\n",
       "      <th>0.536758</th>\n",
       "    </tr>\n",
       "  </thead>\n",
       "  <tbody>\n",
       "  </tbody>\n",
       "</table>\n",
       "<p>0 rows × 100 columns</p>\n",
       "</div>"
      ],
      "text/plain": [
       "Empty DataFrame\n",
       "Columns: [0.50715341,  0.5779675,  0.49150082,  0.49941647,  0.69048385,  0.46377689,  0.46075175,  0.69246371,  0.70119107,  0.60494232,  0.65942047,  0.38611268,  0.38989124,  0.59864133,  0.73302441,  0.55149175,  0.33996788,  0.3234381,  0.45906434,  0.5145058,  0.48988878,  0.52108468,  0.61546816,  0.48084925,  0.55634011,  0.54610418,  0.47637505,  0.62115146,  0.39170524,  0.58907326,  0.45214567,  0.78782491,  0.5588117,  0.73839836,  0.16224996,  0.40765296,  0.65991399,  0.4725211,  0.23194555,  0.76301125,  0.64071419,  0.53132377,  0.74609921,  0.43967552,  0.67910524,  0.25419833,  0.53909991,  0.6736499,  0.50303527,  0.41864135,  0.55876589,  0.40123981,  0.49586074,  0.61140871,  0.60126728,  0.58721555,  0.24896679,  0.25864544,  0.67533789,  0.5675155,  0.67983618,  0.5697909,  0.62985092,  0.34663036,  0.43158168,  0.64272466,  0.44374435,  0.39326291,  0.5336789,  0.60921128,  0.68136634,  0.37277883,  0.59828116,  0.3183207,  0.56226002,  0.7114828,  0.35041437,  0.39859923,  0.34411978,  0.83179234,  0.56140952,  0.36850569,  0.49804952,  0.42741109,  0.26891011,  0.69882202,  0.73740358,  0.39733766,  0.4571118,  0.6380069,  0.32517011,  0.46338304,  0.78390633,  0.27712664,  0.71647649,  0.55499561,  0.69167171,  0.55084653,  0.56396469,  0.536758]\n",
       "Index: []\n",
       "\n",
       "[0 rows x 100 columns]"
      ]
     },
     "execution_count": 27,
     "metadata": {},
     "output_type": "execute_result"
    }
   ],
   "source": [
    "b"
   ]
  },
  {
   "cell_type": "code",
   "execution_count": 28,
   "metadata": {},
   "outputs": [
    {
     "data": {
      "text/plain": [
       "0"
      ]
     },
     "execution_count": 28,
     "metadata": {},
     "output_type": "execute_result"
    }
   ],
   "source": [
    "len(b)"
   ]
  },
  {
   "cell_type": "code",
   "execution_count": 30,
   "metadata": {},
   "outputs": [
    {
     "data": {
      "text/plain": [
       "Unnamed: 0     22.8\n",
       "Unnamed: 1     23.4\n",
       "Unnamed: 2     26.2\n",
       "Unnamed: 3     24.4\n",
       "Unnamed: 4     22.0\n",
       "Unnamed: 5     24.8\n",
       "Unnamed: 6     26.7\n",
       "Unnamed: 7     25.1\n",
       "Unnamed: 8     23.1\n",
       "Unnamed: 9     22.8\n",
       "Unnamed: 10    25.6\n",
       "Unnamed: 11    25.1\n",
       "Unnamed: 12    24.3\n",
       "Unnamed: 13    24.3\n",
       "Unnamed: 14    22.8\n",
       "Unnamed: 15    23.2\n",
       "Unnamed: 16    24.7\n",
       "Unnamed: 17    26.5\n",
       "Unnamed: 18    24.5\n",
       "Unnamed: 19    23.6\n",
       "Unnamed: 20    23.9\n",
       "Unnamed: 21    22.8\n",
       "Unnamed: 22    25.4\n",
       "Unnamed: 23    26.7\n",
       "Unnamed: 24    22.9\n",
       "Unnamed: 25    23.5\n",
       "Unnamed: 26    23.8\n",
       "Unnamed: 27    24.6\n",
       "Unnamed: 28    26.3\n",
       "Unnamed: 29    22.7\n",
       "Unnamed: 30     NaN\n",
       "Name: 0, dtype: float64"
      ]
     },
     "execution_count": 30,
     "metadata": {},
     "output_type": "execute_result"
    }
   ],
   "source": [
    "# Não pegar linha de cabeçalho\n",
    "\n",
    "a.iloc[0]"
   ]
  }
 ],
 "metadata": {
  "kernelspec": {
   "display_name": "Python 3",
   "language": "python",
   "name": "python3"
  },
  "language_info": {
   "codemirror_mode": {
    "name": "ipython",
    "version": 3
   },
   "file_extension": ".py",
   "mimetype": "text/x-python",
   "name": "python",
   "nbconvert_exporter": "python",
   "pygments_lexer": "ipython3",
   "version": "3.9.7"
  },
  "orig_nbformat": 4,
  "vscode": {
   "interpreter": {
    "hash": "c7eff589202d1b081309a21c1fcab32e7bd6b92ee77a4b4c9e08aff7652052eb"
   }
  }
 },
 "nbformat": 4,
 "nbformat_minor": 2
}
