{
 "cells": [
  {
   "attachments": {},
   "cell_type": "markdown",
   "metadata": {},
   "source": [
    "## Modulos"
   ]
  },
  {
   "cell_type": "code",
   "execution_count": 2,
   "metadata": {},
   "outputs": [],
   "source": [
    "import numpy as np\n",
    "import pandas as pd\n",
    "\n",
    "from scipy.stats import *\n",
    "from math import sqrt\n",
    "from matplotlib import pyplot as plt"
   ]
  },
  {
   "attachments": {},
   "cell_type": "markdown",
   "metadata": {},
   "source": [
    "## Tabelas "
   ]
  },
  {
   "cell_type": "code",
   "execution_count": 3,
   "metadata": {},
   "outputs": [
    {
     "data": {
      "text/html": [
       "<div>\n",
       "<style scoped>\n",
       "    .dataframe tbody tr th:only-of-type {\n",
       "        vertical-align: middle;\n",
       "    }\n",
       "\n",
       "    .dataframe tbody tr th {\n",
       "        vertical-align: top;\n",
       "    }\n",
       "\n",
       "    .dataframe thead th {\n",
       "        text-align: right;\n",
       "    }\n",
       "</style>\n",
       "<table border=\"1\" class=\"dataframe\">\n",
       "  <thead>\n",
       "    <tr style=\"text-align: right;\">\n",
       "      <th></th>\n",
       "      <th>α</th>\n",
       "      <th>0.20</th>\n",
       "      <th>0.15</th>\n",
       "      <th>0.10</th>\n",
       "      <th>0.05</th>\n",
       "      <th>0.01</th>\n",
       "    </tr>\n",
       "  </thead>\n",
       "  <tbody>\n",
       "    <tr>\n",
       "      <th>0</th>\n",
       "      <td>N</td>\n",
       "      <td>0.900</td>\n",
       "      <td>0.925</td>\n",
       "      <td>0.950</td>\n",
       "      <td>0.975</td>\n",
       "      <td>0.995</td>\n",
       "    </tr>\n",
       "    <tr>\n",
       "      <th>1</th>\n",
       "      <td>1</td>\n",
       "      <td>0.684</td>\n",
       "      <td>0.726</td>\n",
       "      <td>0.776</td>\n",
       "      <td>0.842</td>\n",
       "      <td>0.929</td>\n",
       "    </tr>\n",
       "    <tr>\n",
       "      <th>2</th>\n",
       "      <td>2</td>\n",
       "      <td>0.565</td>\n",
       "      <td>0.597</td>\n",
       "      <td>0.642</td>\n",
       "      <td>0.708</td>\n",
       "      <td>0.828</td>\n",
       "    </tr>\n",
       "    <tr>\n",
       "      <th>3</th>\n",
       "      <td>3</td>\n",
       "      <td>0.494</td>\n",
       "      <td>0.525</td>\n",
       "      <td>0.564</td>\n",
       "      <td>0.624</td>\n",
       "      <td>0.733</td>\n",
       "    </tr>\n",
       "    <tr>\n",
       "      <th>4</th>\n",
       "      <td>4</td>\n",
       "      <td>0.446</td>\n",
       "      <td>0.474</td>\n",
       "      <td>0.510</td>\n",
       "      <td>0.565</td>\n",
       "      <td>0.669</td>\n",
       "    </tr>\n",
       "  </tbody>\n",
       "</table>\n",
       "</div>"
      ],
      "text/plain": [
       "   α   0.20   0.15   0.10   0.05   0.01\n",
       "0  N  0.900  0.925  0.950  0.975  0.995\n",
       "1  1  0.684  0.726  0.776  0.842  0.929\n",
       "2  2  0.565  0.597  0.642  0.708  0.828\n",
       "3  3  0.494  0.525  0.564  0.624  0.733\n",
       "4  4  0.446  0.474  0.510  0.565  0.669"
      ]
     },
     "execution_count": 3,
     "metadata": {},
     "output_type": "execute_result"
    }
   ],
   "source": [
    "TabelaG = pd.read_csv('TabelaG.csv')\n",
    "TabelaG.head()"
   ]
  },
  {
   "cell_type": "code",
   "execution_count": 4,
   "metadata": {},
   "outputs": [
    {
     "data": {
      "text/html": [
       "<div>\n",
       "<style scoped>\n",
       "    .dataframe tbody tr th:only-of-type {\n",
       "        vertical-align: middle;\n",
       "    }\n",
       "\n",
       "    .dataframe tbody tr th {\n",
       "        vertical-align: top;\n",
       "    }\n",
       "\n",
       "    .dataframe thead th {\n",
       "        text-align: right;\n",
       "    }\n",
       "</style>\n",
       "<table border=\"1\" class=\"dataframe\">\n",
       "  <thead>\n",
       "    <tr style=\"text-align: right;\">\n",
       "      <th></th>\n",
       "      <th>i</th>\n",
       "      <th>2</th>\n",
       "      <th>3</th>\n",
       "      <th>4</th>\n",
       "      <th>5</th>\n",
       "      <th>6</th>\n",
       "      <th>7</th>\n",
       "      <th>8</th>\n",
       "      <th>9</th>\n",
       "      <th>10</th>\n",
       "      <th>11</th>\n",
       "      <th>12</th>\n",
       "      <th>13</th>\n",
       "      <th>14</th>\n",
       "      <th>15</th>\n",
       "    </tr>\n",
       "  </thead>\n",
       "  <tbody>\n",
       "    <tr>\n",
       "      <th>1</th>\n",
       "      <td>0.7071</td>\n",
       "      <td>NaN</td>\n",
       "      <td>NaN</td>\n",
       "      <td>NaN</td>\n",
       "      <td>NaN</td>\n",
       "      <td>NaN</td>\n",
       "      <td>NaN</td>\n",
       "      <td>NaN</td>\n",
       "      <td>NaN</td>\n",
       "      <td>NaN</td>\n",
       "      <td>NaN</td>\n",
       "      <td>NaN</td>\n",
       "      <td>NaN</td>\n",
       "      <td>NaN</td>\n",
       "      <td>NaN</td>\n",
       "    </tr>\n",
       "    <tr>\n",
       "      <th>2</th>\n",
       "      <td>0.7071</td>\n",
       "      <td>0.0000</td>\n",
       "      <td>NaN</td>\n",
       "      <td>NaN</td>\n",
       "      <td>NaN</td>\n",
       "      <td>NaN</td>\n",
       "      <td>NaN</td>\n",
       "      <td>NaN</td>\n",
       "      <td>NaN</td>\n",
       "      <td>NaN</td>\n",
       "      <td>NaN</td>\n",
       "      <td>NaN</td>\n",
       "      <td>NaN</td>\n",
       "      <td>NaN</td>\n",
       "      <td>NaN</td>\n",
       "    </tr>\n",
       "    <tr>\n",
       "      <th>3</th>\n",
       "      <td>0.6872</td>\n",
       "      <td>0.1677</td>\n",
       "      <td>NaN</td>\n",
       "      <td>NaN</td>\n",
       "      <td>NaN</td>\n",
       "      <td>NaN</td>\n",
       "      <td>NaN</td>\n",
       "      <td>NaN</td>\n",
       "      <td>NaN</td>\n",
       "      <td>NaN</td>\n",
       "      <td>NaN</td>\n",
       "      <td>NaN</td>\n",
       "      <td>NaN</td>\n",
       "      <td>NaN</td>\n",
       "      <td>NaN</td>\n",
       "    </tr>\n",
       "    <tr>\n",
       "      <th>4</th>\n",
       "      <td>0.6646</td>\n",
       "      <td>0.2413</td>\n",
       "      <td>0.0000</td>\n",
       "      <td>NaN</td>\n",
       "      <td>NaN</td>\n",
       "      <td>NaN</td>\n",
       "      <td>NaN</td>\n",
       "      <td>NaN</td>\n",
       "      <td>NaN</td>\n",
       "      <td>NaN</td>\n",
       "      <td>NaN</td>\n",
       "      <td>NaN</td>\n",
       "      <td>NaN</td>\n",
       "      <td>NaN</td>\n",
       "      <td>NaN</td>\n",
       "    </tr>\n",
       "    <tr>\n",
       "      <th>5</th>\n",
       "      <td>0.6431</td>\n",
       "      <td>0.2806</td>\n",
       "      <td>0.0875</td>\n",
       "      <td>NaN</td>\n",
       "      <td>NaN</td>\n",
       "      <td>NaN</td>\n",
       "      <td>NaN</td>\n",
       "      <td>NaN</td>\n",
       "      <td>NaN</td>\n",
       "      <td>NaN</td>\n",
       "      <td>NaN</td>\n",
       "      <td>NaN</td>\n",
       "      <td>NaN</td>\n",
       "      <td>NaN</td>\n",
       "      <td>NaN</td>\n",
       "    </tr>\n",
       "  </tbody>\n",
       "</table>\n",
       "</div>"
      ],
      "text/plain": [
       "        i       2       3   4   5   6   7   8   9  10  11  12  13  14  15\n",
       "1  0.7071     NaN     NaN NaN NaN NaN NaN NaN NaN NaN NaN NaN NaN NaN NaN\n",
       "2  0.7071  0.0000     NaN NaN NaN NaN NaN NaN NaN NaN NaN NaN NaN NaN NaN\n",
       "3  0.6872  0.1677     NaN NaN NaN NaN NaN NaN NaN NaN NaN NaN NaN NaN NaN\n",
       "4  0.6646  0.2413  0.0000 NaN NaN NaN NaN NaN NaN NaN NaN NaN NaN NaN NaN\n",
       "5  0.6431  0.2806  0.0875 NaN NaN NaN NaN NaN NaN NaN NaN NaN NaN NaN NaN"
      ]
     },
     "execution_count": 4,
     "metadata": {},
     "output_type": "execute_result"
    }
   ],
   "source": [
    "TabelaH1 = pd.read_csv('TabelaH1.csv')\n",
    "TabelaH1.head()"
   ]
  },
  {
   "cell_type": "code",
   "execution_count": 5,
   "metadata": {},
   "outputs": [
    {
     "data": {
      "text/html": [
       "<div>\n",
       "<style scoped>\n",
       "    .dataframe tbody tr th:only-of-type {\n",
       "        vertical-align: middle;\n",
       "    }\n",
       "\n",
       "    .dataframe tbody tr th {\n",
       "        vertical-align: top;\n",
       "    }\n",
       "\n",
       "    .dataframe thead th {\n",
       "        text-align: right;\n",
       "    }\n",
       "</style>\n",
       "<table border=\"1\" class=\"dataframe\">\n",
       "  <thead>\n",
       "    <tr style=\"text-align: right;\">\n",
       "      <th></th>\n",
       "      <th>n</th>\n",
       "      <th>0.01</th>\n",
       "      <th>0.02</th>\n",
       "      <th>0.05</th>\n",
       "      <th>0.1</th>\n",
       "      <th>0.5</th>\n",
       "      <th>0.9</th>\n",
       "      <th>0.95</th>\n",
       "      <th>0.98</th>\n",
       "      <th>0.99</th>\n",
       "    </tr>\n",
       "  </thead>\n",
       "  <tbody>\n",
       "    <tr>\n",
       "      <th>0</th>\n",
       "      <td>3</td>\n",
       "      <td>0.753</td>\n",
       "      <td>0.756</td>\n",
       "      <td>0.767</td>\n",
       "      <td>0.789</td>\n",
       "      <td>0.959</td>\n",
       "      <td>0.998</td>\n",
       "      <td>0.999</td>\n",
       "      <td>1.000</td>\n",
       "      <td>1.000</td>\n",
       "    </tr>\n",
       "    <tr>\n",
       "      <th>1</th>\n",
       "      <td>4</td>\n",
       "      <td>0.687</td>\n",
       "      <td>0.707</td>\n",
       "      <td>0.748</td>\n",
       "      <td>0.792</td>\n",
       "      <td>0.935</td>\n",
       "      <td>0.987</td>\n",
       "      <td>0.992</td>\n",
       "      <td>0.996</td>\n",
       "      <td>0.997</td>\n",
       "    </tr>\n",
       "    <tr>\n",
       "      <th>2</th>\n",
       "      <td>5</td>\n",
       "      <td>0.686</td>\n",
       "      <td>0.715</td>\n",
       "      <td>0.762</td>\n",
       "      <td>0.806</td>\n",
       "      <td>0.927</td>\n",
       "      <td>0.979</td>\n",
       "      <td>0.986</td>\n",
       "      <td>0.991</td>\n",
       "      <td>0.993</td>\n",
       "    </tr>\n",
       "    <tr>\n",
       "      <th>3</th>\n",
       "      <td>6</td>\n",
       "      <td>0.713</td>\n",
       "      <td>0.743</td>\n",
       "      <td>0.788</td>\n",
       "      <td>0.826</td>\n",
       "      <td>0.927</td>\n",
       "      <td>0.974</td>\n",
       "      <td>0.981</td>\n",
       "      <td>0.986</td>\n",
       "      <td>0.989</td>\n",
       "    </tr>\n",
       "    <tr>\n",
       "      <th>4</th>\n",
       "      <td>7</td>\n",
       "      <td>0.730</td>\n",
       "      <td>0.760</td>\n",
       "      <td>0.803</td>\n",
       "      <td>0.838</td>\n",
       "      <td>0.928</td>\n",
       "      <td>0.972</td>\n",
       "      <td>0.979</td>\n",
       "      <td>0.985</td>\n",
       "      <td>0.988</td>\n",
       "    </tr>\n",
       "  </tbody>\n",
       "</table>\n",
       "</div>"
      ],
      "text/plain": [
       "   n   0.01   0.02   0.05    0.1    0.5    0.9   0.95   0.98   0.99\n",
       "0  3  0.753  0.756  0.767  0.789  0.959  0.998  0.999  1.000  1.000\n",
       "1  4  0.687  0.707  0.748  0.792  0.935  0.987  0.992  0.996  0.997\n",
       "2  5  0.686  0.715  0.762  0.806  0.927  0.979  0.986  0.991  0.993\n",
       "3  6  0.713  0.743  0.788  0.826  0.927  0.974  0.981  0.986  0.989\n",
       "4  7  0.730  0.760  0.803  0.838  0.928  0.972  0.979  0.985  0.988"
      ]
     },
     "execution_count": 5,
     "metadata": {},
     "output_type": "execute_result"
    }
   ],
   "source": [
    "TabelaH2 = pd.read_csv('TabelaH2.csv')\n",
    "TabelaH2.head()"
   ]
  },
  {
   "cell_type": "code",
   "execution_count": 6,
   "metadata": {},
   "outputs": [
    {
     "data": {
      "text/html": [
       "<div>\n",
       "<style scoped>\n",
       "    .dataframe tbody tr th:only-of-type {\n",
       "        vertical-align: middle;\n",
       "    }\n",
       "\n",
       "    .dataframe tbody tr th {\n",
       "        vertical-align: top;\n",
       "    }\n",
       "\n",
       "    .dataframe thead th {\n",
       "        text-align: right;\n",
       "    }\n",
       "</style>\n",
       "<table border=\"1\" class=\"dataframe\">\n",
       "  <thead>\n",
       "    <tr style=\"text-align: right;\">\n",
       "      <th></th>\n",
       "      <th>0.0</th>\n",
       "      <th>0.01</th>\n",
       "      <th>0.02</th>\n",
       "      <th>0.03</th>\n",
       "      <th>0.04</th>\n",
       "      <th>0.05</th>\n",
       "      <th>0.06</th>\n",
       "      <th>0.07</th>\n",
       "      <th>0.08</th>\n",
       "      <th>0.09</th>\n",
       "    </tr>\n",
       "  </thead>\n",
       "  <tbody>\n",
       "    <tr>\n",
       "      <th>0.0</th>\n",
       "      <td>0.5000</td>\n",
       "      <td>0.4960</td>\n",
       "      <td>0.4920</td>\n",
       "      <td>0.4880</td>\n",
       "      <td>0.4840</td>\n",
       "      <td>0.4801</td>\n",
       "      <td>0.4761</td>\n",
       "      <td>0.4721</td>\n",
       "      <td>0.4681</td>\n",
       "      <td>0.4641</td>\n",
       "    </tr>\n",
       "    <tr>\n",
       "      <th>0.1</th>\n",
       "      <td>0.4602</td>\n",
       "      <td>0.4562</td>\n",
       "      <td>0.4522</td>\n",
       "      <td>0.4483</td>\n",
       "      <td>0.4443</td>\n",
       "      <td>0.4404</td>\n",
       "      <td>0.4364</td>\n",
       "      <td>0.4325</td>\n",
       "      <td>0.4286</td>\n",
       "      <td>0.4247</td>\n",
       "    </tr>\n",
       "    <tr>\n",
       "      <th>0.2</th>\n",
       "      <td>0.4207</td>\n",
       "      <td>0.4168</td>\n",
       "      <td>0.4129</td>\n",
       "      <td>0.4090</td>\n",
       "      <td>0.4052</td>\n",
       "      <td>0.4013</td>\n",
       "      <td>0.3974</td>\n",
       "      <td>0.3936</td>\n",
       "      <td>0.3897</td>\n",
       "      <td>0.3859</td>\n",
       "    </tr>\n",
       "    <tr>\n",
       "      <th>0.3</th>\n",
       "      <td>0.3821</td>\n",
       "      <td>0.3783</td>\n",
       "      <td>0.3745</td>\n",
       "      <td>0.3707</td>\n",
       "      <td>0.3669</td>\n",
       "      <td>0.3632</td>\n",
       "      <td>0.3594</td>\n",
       "      <td>0.3557</td>\n",
       "      <td>0.3520</td>\n",
       "      <td>0.3483</td>\n",
       "    </tr>\n",
       "    <tr>\n",
       "      <th>0.4</th>\n",
       "      <td>0.3446</td>\n",
       "      <td>0.3409</td>\n",
       "      <td>0.3372</td>\n",
       "      <td>0.3336</td>\n",
       "      <td>0.3300</td>\n",
       "      <td>0.3264</td>\n",
       "      <td>0.3228</td>\n",
       "      <td>0.3192</td>\n",
       "      <td>0.3156</td>\n",
       "      <td>0.3121</td>\n",
       "    </tr>\n",
       "  </tbody>\n",
       "</table>\n",
       "</div>"
      ],
      "text/plain": [
       "        0.0    0.01    0.02    0.03    0.04    0.05    0.06    0.07    0.08  \\\n",
       "0.0  0.5000  0.4960  0.4920  0.4880  0.4840  0.4801  0.4761  0.4721  0.4681   \n",
       "0.1  0.4602  0.4562  0.4522  0.4483  0.4443  0.4404  0.4364  0.4325  0.4286   \n",
       "0.2  0.4207  0.4168  0.4129  0.4090  0.4052  0.4013  0.3974  0.3936  0.3897   \n",
       "0.3  0.3821  0.3783  0.3745  0.3707  0.3669  0.3632  0.3594  0.3557  0.3520   \n",
       "0.4  0.3446  0.3409  0.3372  0.3336  0.3300  0.3264  0.3228  0.3192  0.3156   \n",
       "\n",
       "       0.09  \n",
       "0.0  0.4641  \n",
       "0.1  0.4247  \n",
       "0.2  0.3859  \n",
       "0.3  0.3483  \n",
       "0.4  0.3121  "
      ]
     },
     "execution_count": 6,
     "metadata": {},
     "output_type": "execute_result"
    }
   ],
   "source": [
    "TabelaE = pd.read_csv('TabelaE.csv')\n",
    "TabelaE.head()"
   ]
  },
  {
   "attachments": {},
   "cell_type": "markdown",
   "metadata": {},
   "source": [
    "## Implementação"
   ]
  },
  {
   "cell_type": "code",
   "execution_count": 7,
   "metadata": {},
   "outputs": [],
   "source": [
    "def HistogramaSimples(data):\n",
    "    \n",
    "    plt.hist(data, bins=20, color='blue', edgecolor='black')\n",
    "    plt.title('Distribuição de Dados')\n",
    "    plt.xlabel('Valores')\n",
    "    plt.ylabel('Frequência')\n",
    "    plt.grid(True)  \n",
    "    plt.show()\n",
    "    \n",
    "def HistogramaComparativo(data):\n",
    "    \n",
    "    #data é um array de arrays\n",
    "    \n",
    "    plt.figure(figsize=(10,5))\n",
    "    plt.title('Distribuição de Dados')\n",
    "    plt.xlabel('Valores')\n",
    "    plt.ylabel('Frequência')\n",
    "    plt.grid(True)\n",
    "    \n",
    "    for i in range(len(data)):\n",
    "        plt.hist(data[i], bins=20, color='blue', edgecolor='black', alpha=0.5)\n",
    "    \n",
    "    "
   ]
  },
  {
   "cell_type": "code",
   "execution_count": 46,
   "metadata": {},
   "outputs": [],
   "source": [
    "def KolmogorovSmirnov(rol,alpha,tamanho,graf = True):\n",
    "    \n",
    "    print('\\nKolmogorov-Smirnov\\n')\n",
    "    \n",
    "    #H0 = Fobs(x) = Fesp(x)  \n",
    "    #H1 = Fobs(x) != Fesp(x)\n",
    "    \n",
    "    \n",
    "    \n",
    "    #Dcalc = max{|Fesp(x) - Fob(x)|,|fsp(x) - Fob(x-1)|}\n",
    "    #Fesp = Frequencia relativa\n",
    "    #Fob = Frequencia relativa acumulada\n",
    "    Media = rol.mean()\n",
    "    Variancia = rol.var()\n",
    "    DesvioPadrao = rol.std()\n",
    "    mediana = np.median(rol)\n",
    "    min = rol.min()\n",
    "    maximum = rol.max()\n",
    "    soma = rol.sum()\n",
    "    \n",
    "    \n",
    "    \n",
    "    \n",
    "    if graf:\n",
    "        HistogramaSimples(rol)\n",
    "        print('Media = ',Media)\n",
    "        print('Variancia = ',Variancia)\n",
    "        print('DesvioPadrao = ',DesvioPadrao) \n",
    "        print(\"Mediana = \",mediana)   \n",
    "        print(\"Minimo = \",min)\n",
    "        print(\"Maximo = \",maximum)\n",
    "        print(\"Soma = \",soma)    \n",
    "        print(\"Contagem = \",tamanho)\n",
    "    \n",
    "    \n",
    "    if tamanho <= 20:\n",
    "    \n",
    "\n",
    "    \n",
    "        import pandas as pd\n",
    "        Tabela = pd.DataFrame(columns=['xi','Fobs','Fa','Fra','zcalc','fesp','|fesp(xi) - fra(xi)|','|fesp(xi) - fra(xi-1)|'])\n",
    "        \n",
    "        \n",
    "        tabG = {'0.20':1.07/sqrt(tamanho),'0.15':1.14/sqrt(tamanho),'0.10':1.22/sqrt(tamanho),'0.05':1.36/sqrt(tamanho),'0.025':1.48/sqrt(tamanho),'0.01':1.63/sqrt(tamanho),'0.005':1.73/sqrt(tamanho)}\n",
    "        \n",
    "        Tabela['xi'], Tabela['Fobs'] = np.unique(rol, return_counts=True)\n",
    "        Tabela['Fa'] = Tabela['Fobs'].cumsum()\n",
    "        Tabela['Fra'] = Tabela['Fa']/Tabela['Fobs'].sum() #Frequencia relativa acumulada --> Fob.sum = tamanho da rol\n",
    "        Tabela['zcalc'] = (Tabela['xi'] - Media)/DesvioPadrao\n",
    "        Tabela['fesp'] = norm.cdf(Tabela['zcalc'])\n",
    "        Tabela['|fesp(xi) - fra(xi)|'] = abs(Tabela['fesp'] - Tabela['Fra'])\n",
    "        Tabela['|fesp(xi) - fra(xi-1)|'] = abs(Tabela['fesp'] - Tabela['Fra'].shift(1))\n",
    "        #Adicionando o primeiro item na coluna |fesp(xi) - fra(xi-1)|\n",
    "        Tabela.loc[0,'|fesp(xi) - fra(xi-1)|'] = abs(Tabela.loc[0,'fesp'] - 0)\n",
    "        \n",
    "        #Dcalc = Maximo de |fesp(xi) - fra(xi)| e |fesp(xi) - fra(xi-1)|\n",
    "        \n",
    "        Dcalc = max(abs(Tabela['|fesp(xi) - fra(xi)|'].max()),abs(Tabela['|fesp(xi) - fra(xi-1)|'].max()))\n",
    "        #Usar p-valores (Distribuição Normal inversa e verifica se p-valor >= alpha) ->  Hipotese H1,casso contrario H0\n",
    "        \n",
    "        #Dtab = TabelaG.loc[tamanho-1,alpha]\n",
    "        Dtab = TabelaG.loc[tamanho-1,str(alpha)]\n",
    "        \n",
    "        if graf:\n",
    "            Tabela\n",
    "        \n",
    "        #Se Dcalc < Dtab --> Aceita H0\n",
    "        \n",
    "        if Dcalc < Dtab:\n",
    "            print('\\nDcalc < Dtab --> Aceita H0')\n",
    "            return True\n",
    "            \n",
    "        \n",
    "        #Caso contrario --> Rejeita H0\n",
    "        else:\n",
    "            print('\\nDcalc > Dtab --> Rejeita H0')\n",
    "            return False\n",
    "        \n",
    "    else:\n",
    "        \n",
    "        #statistica, p_valor = kstest(rol, 'norm', args=(Media,DesvioPadrao))\n",
    "        statistica, p_valor = shapiro(rol)\n",
    "        \n",
    "        \n",
    "        if p_valor >= alpha:\n",
    "            print('p-valor = ',p_valor)\n",
    "            print('p-valor >= alpha --> Aceita H0')\n",
    "            return True\n",
    "        \n",
    "        else:\n",
    "            print('p-valor = ',p_valor)\n",
    "            print('p-valor < alpha --> Rejeita H0')\n",
    "            return False\n",
    "    \n"
   ]
  },
  {
   "cell_type": "code",
   "execution_count": 9,
   "metadata": {},
   "outputs": [],
   "source": [
    "def ShapiroWilk(rol,alpha,tamanho):\n",
    "    \n",
    "    print('\\nShapiro-Wilk\\n')\n",
    "    print(\"\\nHipotese:\\n\")\n",
    "    print(\"H0 = A amostra segue uma distribuição normal\")\n",
    "    print(\"H1 = A amostra não segue uma distribuição normal\")\n",
    "    \n",
    "    \n",
    "    \n",
    "    Media = rol.mean()\n",
    "    Variancia = rol.var()\n",
    "    DesvioPadrao = rol.std()\n",
    "    mediana = np.median(rol)\n",
    "    max = rol.max()\n",
    "    min = rol.min()\n",
    "    soma = rol.sum()\n",
    "    \n",
    "    \n",
    "    print('Media = ',Media)\n",
    "    print('Variancia = ',Variancia)\n",
    "    print('DesvioPadrao = ',DesvioPadrao)\n",
    "    print(\"Mediana = \",mediana)\n",
    "    print(\"Minimo = \",min)\n",
    "    print(\"Maximo = \",max)\n",
    "    print(\"Soma = \",soma)    \n",
    "    print(\"Contagem = \",tamanho)\n",
    "    \n",
    "    HistogramaSimples(rol)\n",
    "    \n",
    "    \n",
    "    \n",
    "    if tamanho <= 30:\n",
    "    \n",
    "    \n",
    "        Tabela = pd.DataFrame(columns=['i','n-(i-1)','ain','xn-(i-1)','xi','ain(xn-(i-1)-xi'])\n",
    "        \n",
    "        Tabela['i'] = np.arange(1,(tamanho+1)/2)\n",
    "        Tabela['n-(i-1)'] = tamanho - Tabela['i'] + 1\n",
    "        Tabela['ain'] = TabelaH1.loc[tamanho-1].values[~np.isnan(TabelaH1.loc[tamanho-1].values)] #Solução Elegante -> usei masks para remover os NaN\n",
    "        Tabela['xn-(i-1)'] = rol[Tabela['n-(i-1)'].astype(int)-1]\n",
    "        Tabela['xi'] = rol[Tabela['i'].astype(int)-1]\n",
    "        Tabela['ain(xn-(i-1)-xi'] = Tabela['ain']*(Tabela['xn-(i-1)']-Tabela['xi'])\n",
    "        \n",
    "        \n",
    "        #b = somatorio de ain(xn-(i-1)-xi) (1,n/2)\n",
    "        #wcalc= b² / Somatório de (xi - x|)²\n",
    "        \n",
    "        b = Tabela['ain(xn-(i-1)-xi'].sum()\n",
    "        Wcalc = (b**2)/((rol - Media)**2).sum()\n",
    "        Wc = TabelaH2.loc[tamanho-3, str(alpha)]\n",
    "          \n",
    "        print('\\nTabela')    \n",
    "        Tabela\n",
    "        print('\\n')\n",
    "        \n",
    "        print('Wcalc = ',Wcalc)\n",
    "        print('Wc = ',Wc)\n",
    "            \n",
    "        \n",
    "        if Wcalc >=  Wc:\n",
    "            print('\\nWcalc >= Wc --> Aceita H0')\n",
    "            return True\n",
    "        else:\n",
    "            print('\\nWcalc < Wc --> Rejeita H0')\n",
    "            return False\n",
    "            \n",
    "        \n",
    "       \n",
    "      \n",
    "    \n",
    "    else:\n",
    "        \n",
    "        stat, p = shapiro(rol)\n",
    "        \n",
    "        if p > alpha:\n",
    "            print('\\np > alpha --> Aceita H0')\n",
    "            \n",
    "            return True\n",
    "            \n",
    "        else:\n",
    "            print('\\np < alpha --> Rejeita H0')\n",
    "            return False\n",
    "            \n",
    "    "
   ]
  },
  {
   "cell_type": "code",
   "execution_count": 10,
   "metadata": {},
   "outputs": [],
   "source": [
    "def Zscore(rol,alpha,M):\n",
    "    \n",
    "    \n",
    "   print(\"Z-Score\\n\")\n",
    "   print('Hipoteses:')\n",
    "   print('H0 --> M = ',M)\n",
    "   print('H1 --> M != ',M)\n",
    "\n",
    "   sigmaXb = np.std(rol, ddof=1)/np.sqrt(len(rol))\n",
    "   zCalc = (np.mean(rol)-M)/sigmaXb\n",
    "\n",
    "   \"\"\"\n",
    "   Os valores críticos da estatística (zc) são apresentados na Tabela E do apêndice.\n",
    "   Essa tabela fornece os valores críticos de zc tal que P(𝑍𝑐𝑎𝑙𝑐 > zc) = α\n",
    "   (para um teste unilateral à direita).\n",
    "   \"\"\"\n",
    "\n",
    "   zc = t.ppf(1-alpha/2, len(rol)-1)\n",
    "\n",
    "   HistogramaSimples(rol)\n",
    "\n",
    "   if abs(zCalc) > zc:\n",
    "      print('\\nZcalc > Zc --> Rejeita H0')\n",
    "      return False\n",
    "   else:\n",
    "      print('\\nZcalc <= Zc --> Aceita H0')\n",
    "      return True\n",
    "  \n",
    "      \n",
    "    \n",
    "    \n",
    "    "
   ]
  },
  {
   "cell_type": "code",
   "execution_count": 11,
   "metadata": {},
   "outputs": [],
   "source": [
    "def Bartlett(rol,alpha,graf = True ):\n",
    "    \n",
    "    print(\"Bartlett\\n\")\n",
    "    print('Hipoteses:')\n",
    "    print('H0 --> As variancias são iguais')\n",
    "    print('H1 --> As variancias não são iguais')\n",
    "    \n",
    "    #rol = lista de listas\n",
    "    \n",
    "    N = 0\n",
    "    Ni = []\n",
    "    Vari = []\n",
    "    \n",
    "    for i in range(len(rol)):\n",
    "        N += len(rol[i])\n",
    "        Ni.append(len(rol[i]))\n",
    "        Vari.append(np.var(rol[i]))\n",
    "    \n",
    "    Sp2 = np.sum((np.array(Ni)-1)*(np.array(Vari)))/(N-len(rol))\n",
    "    \n",
    "    q = (N-len(rol))*np.log(Sp2) - np.sum((np.array(Ni)-1)*np.log(np.array(Vari)))\n",
    "    c = 1 + (1/(3*(len(rol)-1)))*(np.sum(1/(np.array(Ni)-1))-1/(N-len(rol)))\n",
    "    \n",
    "    Bcalc = q/c\n",
    "    \n",
    "    X2c = chi2.ppf(1-alpha,len(rol)-1)\n",
    "    \n",
    "    if graf:\n",
    "        HistogramaComparativo(rol)\n",
    "\n",
    "    \n",
    "    if Bcalc > X2c:\n",
    "        print('\\nBcalc > X2c --> Rejeita H0')\n",
    "        return False\n",
    "        \n",
    "    else:        \n",
    "        print('\\nBcalc <= X2c --> Aceita H0')\n",
    "        return True\n",
    "    \n",
    "    \n",
    "    "
   ]
  },
  {
   "cell_type": "code",
   "execution_count": 12,
   "metadata": {},
   "outputs": [],
   "source": [
    "def T_student_Independente(rol1,rol2,alpha):\n",
    "    \n",
    "    \n",
    "    \n",
    "    print(\"T-Student - Comparação de médias populacionais Independentes\\n\")\n",
    "    \n",
    "    \n",
    "    print('Hipoteses:')\n",
    "    print('H0 --> M1 = M2 ')\n",
    "    print('H1 --> M1 != M2')\n",
    "    \n",
    "    \n",
    "    n1,n2 = len(rol1),len(rol2)  \n",
    "    var1,var2 = rol1.var(),rol2.var()\n",
    "    mi1,mi2 = rol1.mean(),rol2.mean()\n",
    "    d1,d2 = rol1.std(),rol2.std()\n",
    "    max1,max2 = rol1.max(),rol2.max()\n",
    "    min1,min2 = rol1.min(),rol2.min()\n",
    "    soma1,soma2 = rol1.sum(),rol2.sum()\n",
    "    \n",
    "    \n",
    "    print(\"Médias:\",mi1,mi2)\n",
    "    print(\"Variâncias:\",var1,var2)\n",
    "    print(\"Desvios Padrões:\",d1,d2)\n",
    "    print(\"Máximos:\",max1,max2)\n",
    "    print(\"Mínimos:\",min1,min2)\n",
    "    print(\"Somas:\",soma1,soma2)\n",
    "    print(\"Contagens:\",n1,n2)\n",
    "    \n",
    "    HistogramaComparativo([rol1,rol2])\n",
    "    \n",
    "    \n",
    "    if Bartlett([rol1,rol2],alpha):\n",
    "        \n",
    "        print(\"Caso 2 --> Sigma²1 == Sigma²2\\n\")\n",
    "        \n",
    "        Sp = sqrt(((n1-1)*var1 + (n2-1)*var2)/n1+n2-2)\n",
    "        Tcalc = (mi1-mi2)/(Sp*(1/n1 + 1/n2)**1/2)        \n",
    "        Tc = t.ppf(1-alpha/2,n1+n2-2)\n",
    "        \n",
    "    \n",
    "    \n",
    "    \n",
    "    \n",
    "    else:\n",
    "        print(\"Caso 1 --> Sigma²1 != Sigma²2\\n\")\n",
    "        \n",
    "        Tcalc = (mi1 - mi2 )/((var1/n1)+(var2/n2))**2  # Estatistica T        \n",
    "        V = ((var1/n1   +  var2/n2)**2)/   ( ((var1/n1)**2)/(n1-1)  +   ((var2/n2)**2)/(n2-1))  # Graus de liberdade        \n",
    "        Tc = t.ppf(1-alpha/2,V)  # Valor critico\n",
    "    \n",
    "       \n",
    "    \n",
    "    # Verificar hipoteses\n",
    "    \n",
    "    if Tcalc >= Tc:\n",
    "       \n",
    "       print('\\nTalc >= Tc --> Aceita H0')\n",
    "       return True\n",
    "       \n",
    "    else:\n",
    "        \n",
    "        print('\\nWcalc < Wc --> Rejeita H0')\n",
    "        return False\n",
    "        \n",
    "        \n",
    "        \n",
    "        \n",
    "        "
   ]
  },
  {
   "cell_type": "code",
   "execution_count": 13,
   "metadata": {},
   "outputs": [],
   "source": [
    "def T_student_rols_Emparelhadas(rol1,rol2,alpha,graf = False):\n",
    "    \n",
    "    \n",
    "    print(\"T-Student - Comparação de médias populacionais Emparelhadas\\n\")\n",
    "    \n",
    "    \n",
    "    print('Hipoteses:')\n",
    "    print('H0 --> Md = 0 ')\n",
    "    print('H1 --> Md != 0')\n",
    "    \n",
    "    \n",
    "    if KolmogorovSmirnov(rol1,alpha,len(rol1),graf=False) and  KolmogorovSmirnov(rol2,alpha,len(rol2),graf=False):\n",
    "    \n",
    "    \n",
    "        if Bartlett([rol1,rol2],alpha,graf):\n",
    "            \n",
    "            tamanho = (len(rol1)+len(rol2))/2\n",
    "            rolD = rol1.mean() - rol2.mean()\n",
    "            Dmean = rolD.mean()\n",
    "            Sd = ((rolD - Dmean)**2/tamanho-1)**1/2\n",
    "            Tcalc = Dmean - rolD/(Sd/(tamanho)**1/2)\n",
    "            \n",
    "            Tc = t.ppf(1-alpha/2,tamanho-1)\n",
    "            print('Tc = ',Tc)\n",
    "            print('Tcalc = ',Tcalc)\n",
    "            \n",
    "            HistogramaComparativo([rol1,rol2])\n",
    "        \n",
    "            if Tcalc > Tc:\n",
    "                print('\\nTcalc < Tc --> Rejeita H0')\n",
    "                return False\n",
    "                \n",
    "            else:\n",
    "                print('\\nTalc >= Tc --> Aceita H0')\n",
    "                return True\n",
    "        \n",
    "        else:\n",
    "            \n",
    "            print(\"Amostras não possuem variâncias iguais\")\n",
    "        \n",
    "        \n",
    "       \n",
    "    else:\n",
    "        \n",
    "        print(\"Ambas as amostras não provém de uma mesma distribuição (Normal)\")\n",
    "        \n",
    "        "
   ]
  },
  {
   "attachments": {},
   "cell_type": "markdown",
   "metadata": {},
   "source": [
    "## InstÂncia de Testes"
   ]
  },
  {
   "attachments": {},
   "cell_type": "markdown",
   "metadata": {},
   "source": [
    "#### Kolmogorov_Smirnoff "
   ]
  },
  {
   "cell_type": "code",
   "execution_count": 14,
   "metadata": {},
   "outputs": [],
   "source": [
    "# Casos de teste\n",
    "\n",
    "#Ct001  - KS -> teste com sucesso\n",
    "ProdBienalAvioes = np.array([15, 16, 18, 19, 20, 22, 23, 23, 24, 24, 25, 28, 28, 29, 30, 30, 31, 32, 32, 34, 36, 36, 39, 46])\n",
    "#Ct002  - KS -> teste com sucesso\n",
    "Mi = 30\n",
    "sigma = 5\n",
    "Normal = np.random.normal(Mi,sigma,20)\n",
    "#ct003 - kks --> Teste de falha\n",
    "gama = np.random.gamma(2,2,20)\n",
    "#ct004 - KS --> Teste de falha\n",
    "cauchy = np.random.standard_cauchy(20)\n",
    "\n"
   ]
  },
  {
   "cell_type": "code",
   "execution_count": 15,
   "metadata": {},
   "outputs": [
    {
     "name": "stdout",
     "output_type": "stream",
     "text": [
      "\n",
      "Kolmogorov-Smirnov\n",
      "\n"
     ]
    },
    {
     "data": {
      "image/png": "[encoded data removed]",
      "text/plain": [
       "<Figure size 432x288 with 1 Axes>"
      ]
     },
     "metadata": {
      "needs_background": "light"
     },
     "output_type": "display_data"
    },
    {
     "name": "stdout",
     "output_type": "stream",
     "text": [
      "Media =  27.5\n",
      "Variancia =  55.75\n",
      "DesvioPadrao =  7.466592261534039\n",
      "Mediana =  28.0\n",
      "Minimo =  15\n",
      "Maximo =  46\n",
      "Soma =  660\n",
      "Contagem =  24\n",
      "p-valor =  0.8565154075622559\n",
      "p-valor >= alpha --> Aceita H0\n"
     ]
    },
    {
     "data": {
      "text/plain": [
       "True"
      ]
     },
     "execution_count": 15,
     "metadata": {},
     "output_type": "execute_result"
    }
   ],
   "source": [
    "KolmogorovSmirnov(ProdBienalAvioes,0.05,24)"
   ]
  },
  {
   "cell_type": "code",
   "execution_count": 16,
   "metadata": {},
   "outputs": [
    {
     "name": "stdout",
     "output_type": "stream",
     "text": [
      "\n",
      "Kolmogorov-Smirnov\n",
      "\n"
     ]
    },
    {
     "data": {
      "image/png": "[encoded data removed]",
      "text/plain": [
       "<Figure size 432x288 with 1 Axes>"
      ]
     },
     "metadata": {
      "needs_background": "light"
     },
     "output_type": "display_data"
    },
    {
     "name": "stdout",
     "output_type": "stream",
     "text": [
      "Media =  29.51569870116918\n",
      "Variancia =  22.296917928610952\n",
      "DesvioPadrao =  4.7219612375167745\n",
      "Mediana =  29.58914488576296\n",
      "Minimo =  20.322159300193153\n",
      "Maximo =  39.84725904274604\n",
      "Soma =  590.3139740233836\n",
      "Contagem =  50\n",
      "p-valor =  0.7101823091506958\n",
      "p-valor >= alpha --> Aceita H0\n"
     ]
    },
    {
     "data": {
      "text/plain": [
       "True"
      ]
     },
     "execution_count": 16,
     "metadata": {},
     "output_type": "execute_result"
    }
   ],
   "source": [
    "KolmogorovSmirnov(Normal,0.05,50)"
   ]
  },
  {
   "cell_type": "code",
   "execution_count": 17,
   "metadata": {},
   "outputs": [
    {
     "name": "stdout",
     "output_type": "stream",
     "text": [
      "\n",
      "Kolmogorov-Smirnov\n",
      "\n"
     ]
    },
    {
     "data": {
      "image/png": "[encoded data removed]",
      "text/plain": [
       "<Figure size 432x288 with 1 Axes>"
      ]
     },
     "metadata": {
      "needs_background": "light"
     },
     "output_type": "display_data"
    },
    {
     "name": "stdout",
     "output_type": "stream",
     "text": [
      "Media =  3.1732043881031755\n",
      "Variancia =  5.802427413973148\n",
      "DesvioPadrao =  2.408822827435249\n",
      "Mediana =  3.0714130999676623\n",
      "Minimo =  0.4006100233176727\n",
      "Maximo =  10.73815468538373\n",
      "Soma =  63.464087762063514\n",
      "Contagem =  500\n",
      "p-valor =  0.009774269536137581\n",
      "p-valor < alpha --> Rejeita H0\n"
     ]
    },
    {
     "data": {
      "text/plain": [
       "False"
      ]
     },
     "execution_count": 17,
     "metadata": {},
     "output_type": "execute_result"
    }
   ],
   "source": [
    "KolmogorovSmirnov(gama,0.05,500)"
   ]
  },
  {
   "cell_type": "code",
   "execution_count": 18,
   "metadata": {},
   "outputs": [
    {
     "name": "stdout",
     "output_type": "stream",
     "text": [
      "\n",
      "Kolmogorov-Smirnov\n",
      "\n"
     ]
    },
    {
     "data": {
      "image/png": "[encoded data removed]",
      "text/plain": [
       "<Figure size 432x288 with 1 Axes>"
      ]
     },
     "metadata": {
      "needs_background": "light"
     },
     "output_type": "display_data"
    },
    {
     "name": "stdout",
     "output_type": "stream",
     "text": [
      "Media =  -1.0135168568719561\n",
      "Variancia =  6.7196613109450976\n",
      "DesvioPadrao =  2.5922309524703038\n",
      "Mediana =  -0.1668466717047561\n",
      "Minimo =  -10.080212490660017\n",
      "Maximo =  1.9658190877980828\n",
      "Soma =  -20.27033713743912\n",
      "Contagem =  50\n",
      "p-valor =  8.581649308325723e-05\n",
      "p-valor < alpha --> Rejeita H0\n"
     ]
    },
    {
     "data": {
      "text/plain": [
       "False"
      ]
     },
     "execution_count": 18,
     "metadata": {},
     "output_type": "execute_result"
    }
   ],
   "source": [
    "KolmogorovSmirnov(cauchy,0.05,50)"
   ]
  },
  {
   "attachments": {},
   "cell_type": "markdown",
   "metadata": {},
   "source": [
    "#### Shapiro_Wilk"
   ]
  },
  {
   "cell_type": "code",
   "execution_count": 19,
   "metadata": {},
   "outputs": [],
   "source": [
    "# Casos de teste\n",
    "\n",
    "#ct001 - Shapiro-Wilk --> Teste com sucesso\n",
    "ProdMaqAgric = np.array([52 ,50 ,36 ,40 ,30, 42, 38, 38, 52, 44, 36, 34, 50 ,42 ,34, 55, 36, 55, 42, 52, 34, 48, 55, 44 ,44 ,30 ,48 ,40, 40, 44 ,40 ,44 ,38 ,36 ,50 ,42])\n",
    "#ct002 - Shapiro-Wilk --> Teste com sucesso\n",
    "Normal = np.random.normal(30,5,50)\n",
    "#ct003 - Shapiro-Wilk --> Teste de falha\n",
    "gama = np.random.gamma(2,2,50)\n",
    "#ct004 - Shapiro-Wilk --> Teste de falha\n",
    "cauchy = np.random.standard_cauchy(50)\n"
   ]
  },
  {
   "cell_type": "code",
   "execution_count": 20,
   "metadata": {},
   "outputs": [
    {
     "name": "stdout",
     "output_type": "stream",
     "text": [
      "\n",
      "Shapiro-Wilk\n",
      "\n",
      "\n",
      "Hipotese:\n",
      "\n",
      "H0 = A amostra segue uma distribuição normal\n",
      "H1 = A amostra não segue uma distribuição normal\n",
      "Media =  42.638888888888886\n",
      "Variancia =  49.00848765432099\n",
      "DesvioPadrao =  7.000606234771456\n",
      "Mediana =  42.0\n",
      "Minimo =  30\n",
      "Maximo =  55\n",
      "Soma =  1535\n",
      "Contagem =  36\n"
     ]
    },
    {
     "data": {
      "image/png": "[encoded data removed]",
      "text/plain": [
       "<Figure size 432x288 with 1 Axes>"
      ]
     },
     "metadata": {
      "needs_background": "light"
     },
     "output_type": "display_data"
    },
    {
     "name": "stdout",
     "output_type": "stream",
     "text": [
      "\n",
      "p > alpha --> Aceita H0\n"
     ]
    },
    {
     "data": {
      "text/plain": [
       "True"
      ]
     },
     "execution_count": 20,
     "metadata": {},
     "output_type": "execute_result"
    }
   ],
   "source": [
    "ShapiroWilk(ProdMaqAgric,0.05,36)"
   ]
  },
  {
   "cell_type": "code",
   "execution_count": 21,
   "metadata": {},
   "outputs": [
    {
     "name": "stdout",
     "output_type": "stream",
     "text": [
      "\n",
      "Shapiro-Wilk\n",
      "\n",
      "\n",
      "Hipotese:\n",
      "\n",
      "H0 = A amostra segue uma distribuição normal\n",
      "H1 = A amostra não segue uma distribuição normal\n",
      "Media =  31.001894428759634\n",
      "Variancia =  22.844632830938277\n",
      "DesvioPadrao =  4.779605928414839\n",
      "Mediana =  30.036155358935893\n",
      "Minimo =  22.956138435363737\n",
      "Maximo =  41.890349376505064\n",
      "Soma =  1550.0947214379817\n",
      "Contagem =  50\n"
     ]
    },
    {
     "data": {
      "image/png": "[encoded data removed]",
      "text/plain": [
       "<Figure size 432x288 with 1 Axes>"
      ]
     },
     "metadata": {
      "needs_background": "light"
     },
     "output_type": "display_data"
    },
    {
     "name": "stdout",
     "output_type": "stream",
     "text": [
      "\n",
      "p > alpha --> Aceita H0\n"
     ]
    },
    {
     "data": {
      "text/plain": [
       "True"
      ]
     },
     "execution_count": 21,
     "metadata": {},
     "output_type": "execute_result"
    }
   ],
   "source": [
    "ShapiroWilk(Normal,0.05,50)"
   ]
  },
  {
   "cell_type": "code",
   "execution_count": 22,
   "metadata": {},
   "outputs": [
    {
     "name": "stdout",
     "output_type": "stream",
     "text": [
      "\n",
      "Shapiro-Wilk\n",
      "\n",
      "\n",
      "Hipotese:\n",
      "\n",
      "H0 = A amostra segue uma distribuição normal\n",
      "H1 = A amostra não segue uma distribuição normal\n",
      "Media =  4.620235313594657\n",
      "Variancia =  9.157067508598292\n",
      "DesvioPadrao =  3.02606469008815\n",
      "Mediana =  4.363019733289585\n",
      "Minimo =  0.37169602466761426\n",
      "Maximo =  13.769534725869255\n",
      "Soma =  231.01176567973283\n",
      "Contagem =  50\n"
     ]
    },
    {
     "data": {
      "image/png": "[encoded data removed]",
      "text/plain": [
       "<Figure size 432x288 with 1 Axes>"
      ]
     },
     "metadata": {
      "needs_background": "light"
     },
     "output_type": "display_data"
    },
    {
     "name": "stdout",
     "output_type": "stream",
     "text": [
      "\n",
      "p < alpha --> Rejeita H0\n"
     ]
    },
    {
     "data": {
      "text/plain": [
       "False"
      ]
     },
     "execution_count": 22,
     "metadata": {},
     "output_type": "execute_result"
    }
   ],
   "source": [
    "ShapiroWilk(gama,0.05,50)"
   ]
  },
  {
   "cell_type": "code",
   "execution_count": 23,
   "metadata": {},
   "outputs": [
    {
     "name": "stdout",
     "output_type": "stream",
     "text": [
      "\n",
      "Shapiro-Wilk\n",
      "\n",
      "\n",
      "Hipotese:\n",
      "\n",
      "H0 = A amostra segue uma distribuição normal\n",
      "H1 = A amostra não segue uma distribuição normal\n",
      "Media =  0.4467457824040219\n",
      "Variancia =  14.245820455127907\n",
      "DesvioPadrao =  3.774363582794841\n",
      "Mediana =  -0.07271356169184653\n",
      "Minimo =  -5.2884028549961295\n",
      "Maximo =  23.136290420925405\n",
      "Soma =  22.337289120201095\n",
      "Contagem =  50\n"
     ]
    },
    {
     "data": {
      "image/png": "[encoded data removed]",
      "text/plain": [
       "<Figure size 432x288 with 1 Axes>"
      ]
     },
     "metadata": {
      "needs_background": "light"
     },
     "output_type": "display_data"
    },
    {
     "name": "stdout",
     "output_type": "stream",
     "text": [
      "\n",
      "p < alpha --> Rejeita H0\n"
     ]
    },
    {
     "data": {
      "text/plain": [
       "False"
      ]
     },
     "execution_count": 23,
     "metadata": {},
     "output_type": "execute_result"
    }
   ],
   "source": [
    "ShapiroWilk(cauchy,0.05,50)"
   ]
  },
  {
   "attachments": {},
   "cell_type": "markdown",
   "metadata": {},
   "source": [
    "#### Teste Z"
   ]
  },
  {
   "cell_type": "code",
   "execution_count": 24,
   "metadata": {},
   "outputs": [],
   "source": [
    "normal = np.random.normal(30,5,50)\n"
   ]
  },
  {
   "cell_type": "code",
   "execution_count": 25,
   "metadata": {},
   "outputs": [
    {
     "name": "stdout",
     "output_type": "stream",
     "text": [
      "Z-Score\n",
      "\n",
      "Hipoteses:\n",
      "H0 --> M =  30\n",
      "H1 --> M !=  30\n"
     ]
    },
    {
     "data": {
      "image/png": "[encoded data removed]",
      "text/plain": [
       "<Figure size 432x288 with 1 Axes>"
      ]
     },
     "metadata": {
      "needs_background": "light"
     },
     "output_type": "display_data"
    },
    {
     "name": "stdout",
     "output_type": "stream",
     "text": [
      "\n",
      "Zcalc <= Zc --> Aceita H0\n"
     ]
    },
    {
     "data": {
      "text/plain": [
       "True"
      ]
     },
     "execution_count": 25,
     "metadata": {},
     "output_type": "execute_result"
    }
   ],
   "source": [
    "#Caso de teste 001 - Teste com sucesso\n",
    "Zscore(normal,0.05,30)  "
   ]
  },
  {
   "cell_type": "code",
   "execution_count": 26,
   "metadata": {},
   "outputs": [
    {
     "name": "stdout",
     "output_type": "stream",
     "text": [
      "Z-Score\n",
      "\n",
      "Hipoteses:\n",
      "H0 --> M =  35\n",
      "H1 --> M !=  35\n"
     ]
    },
    {
     "data": {
      "image/png": "[encoded data removed]",
      "text/plain": [
       "<Figure size 432x288 with 1 Axes>"
      ]
     },
     "metadata": {
      "needs_background": "light"
     },
     "output_type": "display_data"
    },
    {
     "name": "stdout",
     "output_type": "stream",
     "text": [
      "\n",
      "Zcalc > Zc --> Rejeita H0\n"
     ]
    },
    {
     "data": {
      "text/plain": [
       "False"
      ]
     },
     "execution_count": 26,
     "metadata": {},
     "output_type": "execute_result"
    }
   ],
   "source": [
    "#Caso de teste 002 - Teste com sucesso\n",
    "Zscore(normal,0.05,35)"
   ]
  },
  {
   "attachments": {},
   "cell_type": "markdown",
   "metadata": {},
   "source": [
    "#### Teste Bartlett"
   ]
  },
  {
   "cell_type": "code",
   "execution_count": 27,
   "metadata": {},
   "outputs": [],
   "source": [
    "Normal = np.random.normal(30,5,50)\n",
    "Normal2 = np.random.normal(30,5,50)"
   ]
  },
  {
   "cell_type": "code",
   "execution_count": 28,
   "metadata": {},
   "outputs": [
    {
     "name": "stdout",
     "output_type": "stream",
     "text": [
      "Bartlett\n",
      "\n",
      "Hipoteses:\n",
      "H0 --> As variancias são iguais\n",
      "H1 --> As variancias não são iguais\n",
      "\n",
      "Bcalc <= X2c --> Aceita H0\n"
     ]
    },
    {
     "data": {
      "text/plain": [
       "True"
      ]
     },
     "execution_count": 28,
     "metadata": {},
     "output_type": "execute_result"
    },
    {
     "data": {
      "image/png": "[encoded data removed]",
      "text/plain": [
       "<Figure size 720x360 with 1 Axes>"
      ]
     },
     "metadata": {
      "needs_background": "light"
     },
     "output_type": "display_data"
    }
   ],
   "source": [
    "Bartlett([Normal,Normal2],0.05)"
   ]
  },
  {
   "cell_type": "code",
   "execution_count": 29,
   "metadata": {},
   "outputs": [],
   "source": [
    "Normal = np.random.normal(30,5,50)\n",
    "Normal2 = np.random.normal(30,10,50)"
   ]
  },
  {
   "cell_type": "code",
   "execution_count": 30,
   "metadata": {},
   "outputs": [
    {
     "name": "stdout",
     "output_type": "stream",
     "text": [
      "Bartlett\n",
      "\n",
      "Hipoteses:\n",
      "H0 --> As variancias são iguais\n",
      "H1 --> As variancias não são iguais\n",
      "\n",
      "Bcalc > X2c --> Rejeita H0\n"
     ]
    },
    {
     "data": {
      "text/plain": [
       "False"
      ]
     },
     "execution_count": 30,
     "metadata": {},
     "output_type": "execute_result"
    },
    {
     "data": {
      "image/png": "[encoded data removed]",
      "text/plain": [
       "<Figure size 720x360 with 1 Axes>"
      ]
     },
     "metadata": {
      "needs_background": "light"
     },
     "output_type": "display_data"
    }
   ],
   "source": [
    "Bartlett([Normal,Normal2],0.05)"
   ]
  },
  {
   "attachments": {},
   "cell_type": "markdown",
   "metadata": {},
   "source": [
    "#### T_student_Independente"
   ]
  },
  {
   "cell_type": "code",
   "execution_count": 31,
   "metadata": {},
   "outputs": [],
   "source": [
    "#ct001 - Sucesso Bartlett Sucesso T\n",
    "\n",
    "t11  = np.random.normal(30,5,50)\n",
    "t12 = np.random.normal(30,5,50)\n",
    "\n",
    "\n",
    "#ct002 - Falha Bartlett Sucesso T\n",
    "\n",
    "t21 = np.random.normal(30,5,500)\n",
    "t22 = np.random.normal(30,10,500)\n",
    "\n",
    "\n",
    "#ct003 - Sucesso Bartlett Falha T\n",
    "\n",
    "t31 = np.random.normal(30,5,50)\n",
    "t32 = np.random.normal(40,5,50)\n",
    "\n",
    "#ct004 - Falha Bartlett Falha T\n",
    "\n",
    "t41 = np.random.normal(30,5,50)\n",
    "t42 = np.random.normal(40,10,50)"
   ]
  },
  {
   "cell_type": "code",
   "execution_count": 32,
   "metadata": {},
   "outputs": [
    {
     "name": "stdout",
     "output_type": "stream",
     "text": [
      "T-Student - Comparação de médias populacionais Independentes\n",
      "\n",
      "Hipoteses:\n",
      "H0 --> M1 = M2 \n",
      "H1 --> M1 != M2\n",
      "Médias: 31.07212847665928 30.13850920777861\n",
      "Variâncias: 24.74715093126536 18.03757547324242\n",
      "Desvios Padrões: 4.974650835110476 4.247066690463245\n",
      "Máximos: 44.265263901397695 39.449745423635314\n",
      "Mínimos: 20.29296470996026 19.19165881103126\n",
      "Somas: 1553.606423832964 1506.9254603889306\n",
      "Contagens: 50 50\n",
      "Bartlett\n",
      "\n",
      "Hipoteses:\n",
      "H0 --> As variancias são iguais\n",
      "H1 --> As variancias não são iguais\n",
      "\n",
      "Bcalc <= X2c --> Aceita H0\n",
      "Caso 2 --> Sigma²1 == Sigma²2\n",
      "\n",
      "\n",
      "Talc >= Tc --> Aceita H0\n"
     ]
    },
    {
     "data": {
      "text/plain": [
       "True"
      ]
     },
     "execution_count": 32,
     "metadata": {},
     "output_type": "execute_result"
    },
    {
     "data": {
      "image/png": "[encoded data removed]",
      "text/plain": [
       "<Figure size 720x360 with 1 Axes>"
      ]
     },
     "metadata": {
      "needs_background": "light"
     },
     "output_type": "display_data"
    },
    {
     "data": {
      "image/png": "[encoded data removed]",
      "text/plain": [
       "<Figure size 720x360 with 1 Axes>"
      ]
     },
     "metadata": {
      "needs_background": "light"
     },
     "output_type": "display_data"
    }
   ],
   "source": [
    "T_student_Independente(t11,t12,0.05)"
   ]
  },
  {
   "cell_type": "code",
   "execution_count": 33,
   "metadata": {},
   "outputs": [
    {
     "name": "stdout",
     "output_type": "stream",
     "text": [
      "T-Student - Comparação de médias populacionais Independentes\n",
      "\n",
      "Hipoteses:\n",
      "H0 --> M1 = M2 \n",
      "H1 --> M1 != M2\n",
      "Médias: 29.876351884412507 29.833021559312737\n",
      "Variâncias: 24.17837674107795 100.48032030915466\n",
      "Desvios Padrões: 4.917151283118911 10.023987246059058\n",
      "Máximos: 44.86017688748572 59.645388316834435\n",
      "Mínimos: 12.83986810081009 0.652935597609094\n",
      "Somas: 14938.175942206253 14916.510779656368\n",
      "Contagens: 500 500\n",
      "Bartlett\n",
      "\n",
      "Hipoteses:\n",
      "H0 --> As variancias são iguais\n",
      "H1 --> As variancias não são iguais\n",
      "\n",
      "Bcalc > X2c --> Rejeita H0\n",
      "Caso 1 --> Sigma²1 != Sigma²2\n",
      "\n",
      "\n",
      "Wcalc < Wc --> Rejeita H0\n"
     ]
    },
    {
     "data": {
      "text/plain": [
       "False"
      ]
     },
     "execution_count": 33,
     "metadata": {},
     "output_type": "execute_result"
    },
    {
     "data": {
      "image/png": "[encoded data removed]",
      "text/plain": [
       "<Figure size 720x360 with 1 Axes>"
      ]
     },
     "metadata": {
      "needs_background": "light"
     },
     "output_type": "display_data"
    },
    {
     "data": {
      "image/png": "[encoded data removed]",
      "text/plain": [
       "<Figure size 720x360 with 1 Axes>"
      ]
     },
     "metadata": {
      "needs_background": "light"
     },
     "output_type": "display_data"
    }
   ],
   "source": [
    "T_student_Independente(t21,t22,0.05)"
   ]
  },
  {
   "cell_type": "code",
   "execution_count": 34,
   "metadata": {},
   "outputs": [
    {
     "name": "stdout",
     "output_type": "stream",
     "text": [
      "T-Student - Comparação de médias populacionais Independentes\n",
      "\n",
      "Hipoteses:\n",
      "H0 --> M1 = M2 \n",
      "H1 --> M1 != M2\n",
      "Médias: 30.458076096558635 39.364344672918335\n",
      "Variâncias: 31.939477825426014 15.383505946470777\n",
      "Desvios Padrões: 5.6515022627108635 3.9221812740451933\n",
      "Máximos: 43.86472112660781 50.747227896051506\n",
      "Mínimos: 17.09777018045106 32.08338646008492\n",
      "Somas: 1522.9038048279317 1968.2172336459168\n",
      "Contagens: 50 50\n",
      "Bartlett\n",
      "\n",
      "Hipoteses:\n",
      "H0 --> As variancias são iguais\n",
      "H1 --> As variancias não são iguais\n",
      "\n",
      "Bcalc > X2c --> Rejeita H0\n",
      "Caso 1 --> Sigma²1 != Sigma²2\n",
      "\n",
      "\n",
      "Wcalc < Wc --> Rejeita H0\n"
     ]
    },
    {
     "data": {
      "text/plain": [
       "False"
      ]
     },
     "execution_count": 34,
     "metadata": {},
     "output_type": "execute_result"
    },
    {
     "data": {
      "image/png": "[encoded data removed]",
      "text/plain": [
       "<Figure size 720x360 with 1 Axes>"
      ]
     },
     "metadata": {
      "needs_background": "light"
     },
     "output_type": "display_data"
    },
    {
     "data": {
      "image/png": "[encoded data removed]",
      "text/plain": [
       "<Figure size 720x360 with 1 Axes>"
      ]
     },
     "metadata": {
      "needs_background": "light"
     },
     "output_type": "display_data"
    }
   ],
   "source": [
    "T_student_Independente(t31,t32,0.05)"
   ]
  },
  {
   "cell_type": "code",
   "execution_count": 35,
   "metadata": {},
   "outputs": [
    {
     "name": "stdout",
     "output_type": "stream",
     "text": [
      "T-Student - Comparação de médias populacionais Independentes\n",
      "\n",
      "Hipoteses:\n",
      "H0 --> M1 = M2 \n",
      "H1 --> M1 != M2\n",
      "Médias: 30.458076096558635 39.364344672918335\n",
      "Variâncias: 31.939477825426014 15.383505946470777\n",
      "Desvios Padrões: 5.6515022627108635 3.9221812740451933\n",
      "Máximos: 43.86472112660781 50.747227896051506\n",
      "Mínimos: 17.09777018045106 32.08338646008492\n",
      "Somas: 1522.9038048279317 1968.2172336459168\n",
      "Contagens: 50 50\n",
      "Bartlett\n",
      "\n",
      "Hipoteses:\n",
      "H0 --> As variancias são iguais\n",
      "H1 --> As variancias não são iguais\n",
      "\n",
      "Bcalc > X2c --> Rejeita H0\n",
      "Caso 1 --> Sigma²1 != Sigma²2\n",
      "\n",
      "\n",
      "Wcalc < Wc --> Rejeita H0\n"
     ]
    },
    {
     "data": {
      "text/plain": [
       "False"
      ]
     },
     "execution_count": 35,
     "metadata": {},
     "output_type": "execute_result"
    },
    {
     "data": {
      "image/png": "[encoded data removed]",
      "text/plain": [
       "<Figure size 720x360 with 1 Axes>"
      ]
     },
     "metadata": {
      "needs_background": "light"
     },
     "output_type": "display_data"
    },
    {
     "data": {
      "image/png": "[encoded data removed]",
      "text/plain": [
       "<Figure size 720x360 with 1 Axes>"
      ]
     },
     "metadata": {
      "needs_background": "light"
     },
     "output_type": "display_data"
    }
   ],
   "source": [
    "T_student_Independente(t31,t32,0.05)"
   ]
  },
  {
   "attachments": {},
   "cell_type": "markdown",
   "metadata": {},
   "source": [
    "#### T_student_Emparelhada"
   ]
  },
  {
   "cell_type": "code",
   "execution_count": 44,
   "metadata": {},
   "outputs": [],
   "source": [
    "#ct001 - Sucesso KS Sucesso Bartlet Sucesso T\n",
    "\n",
    "t11  = np.random.normal(30,5,50)\n",
    "t12 = np.random.normal(30,5,50)\n",
    "\n",
    "\n",
    "#ct002 - Sucesso KS Sucesso Bartlet Falha T\n",
    "\n",
    "t21 = np.random.normal(30,5,50)\n",
    "t22 = np.random.normal(40,5,50)\n",
    "\n",
    "\n",
    "#ct003 - Sucesso KS Falha Bartlet\n",
    "\n",
    "t31 = np.random.normal(30,5,500)\n",
    "t32 = np.random.normal(30,10,500)\n",
    " \n",
    "#ct004 - Falha KS\n",
    "\n",
    "t41 =  np.random.gamma(2,2,20)\n",
    "t42 =  np.random.gamma(2,2,20)\n",
    "\n",
    "\n",
    "\n",
    "\n",
    "\n"
   ]
  },
  {
   "cell_type": "code",
   "execution_count": 37,
   "metadata": {},
   "outputs": [
    {
     "name": "stdout",
     "output_type": "stream",
     "text": [
      "T-Student - Comparação de médias populacionais Emparelhadas\n",
      "\n",
      "Hipoteses:\n",
      "H0 --> Md = 0 \n",
      "H1 --> Md != 0\n",
      "\n",
      "Kolmogorov-Smirnov\n",
      "\n",
      "p-valor =  0.9797667264938354\n",
      "p-valor >= alpha --> Aceita H0\n",
      "\n",
      "Kolmogorov-Smirnov\n",
      "\n",
      "p-valor =  0.6190462708473206\n",
      "p-valor >= alpha --> Aceita H0\n",
      "Bartlett\n",
      "\n",
      "Hipoteses:\n",
      "H0 --> As variancias são iguais\n",
      "H1 --> As variancias não são iguais\n",
      "\n",
      "Bcalc <= X2c --> Aceita H0\n",
      "Tc =  2.009575234489209\n",
      "Tcalc =  -6.298529232698723\n",
      "\n",
      "Talc >= Tc --> Aceita H0\n"
     ]
    },
    {
     "data": {
      "text/plain": [
       "True"
      ]
     },
     "execution_count": 37,
     "metadata": {},
     "output_type": "execute_result"
    },
    {
     "data": {
      "image/png": "[encoded data removed]",
      "text/plain": [
       "<Figure size 720x360 with 1 Axes>"
      ]
     },
     "metadata": {
      "needs_background": "light"
     },
     "output_type": "display_data"
    }
   ],
   "source": [
    "T_student_rols_Emparelhadas(t11,t12,0.05)"
   ]
  },
  {
   "cell_type": "code",
   "execution_count": 40,
   "metadata": {},
   "outputs": [
    {
     "name": "stdout",
     "output_type": "stream",
     "text": [
      "T-Student - Comparação de médias populacionais Emparelhadas\n",
      "\n",
      "Hipoteses:\n",
      "H0 --> Md = 0 \n",
      "H1 --> Md != 0\n",
      "\n",
      "Kolmogorov-Smirnov\n",
      "\n",
      "p-valor =  0.28671491146087646\n",
      "p-valor >= alpha --> Aceita H0\n",
      "\n",
      "Kolmogorov-Smirnov\n",
      "\n",
      "p-valor =  0.826234757900238\n",
      "p-valor >= alpha --> Aceita H0\n",
      "Bartlett\n",
      "\n",
      "Hipoteses:\n",
      "H0 --> As variancias são iguais\n",
      "H1 --> As variancias não são iguais\n",
      "\n",
      "Bcalc <= X2c --> Aceita H0\n",
      "Tc =  2.009575234489209\n",
      "Tcalc =  -1813.3110293387376\n",
      "\n",
      "Talc >= Tc --> Aceita H0\n"
     ]
    },
    {
     "data": {
      "text/plain": [
       "True"
      ]
     },
     "execution_count": 40,
     "metadata": {},
     "output_type": "execute_result"
    },
    {
     "data": {
      "image/png": "[encoded data removed]",
      "text/plain": [
       "<Figure size 720x360 with 1 Axes>"
      ]
     },
     "metadata": {
      "needs_background": "light"
     },
     "output_type": "display_data"
    }
   ],
   "source": [
    "T_student_rols_Emparelhadas(t21,t22,0.05)"
   ]
  },
  {
   "cell_type": "code",
   "execution_count": 41,
   "metadata": {},
   "outputs": [
    {
     "name": "stdout",
     "output_type": "stream",
     "text": [
      "T-Student - Comparação de médias populacionais Emparelhadas\n",
      "\n",
      "Hipoteses:\n",
      "H0 --> Md = 0 \n",
      "H1 --> Md != 0\n",
      "\n",
      "Kolmogorov-Smirnov\n",
      "\n",
      "p-valor =  0.23519366979599\n",
      "p-valor >= alpha --> Aceita H0\n",
      "\n",
      "Kolmogorov-Smirnov\n",
      "\n",
      "p-valor =  0.189381405711174\n",
      "p-valor >= alpha --> Aceita H0\n",
      "Bartlett\n",
      "\n",
      "Hipoteses:\n",
      "H0 --> As variancias são iguais\n",
      "H1 --> As variancias não são iguais\n",
      "\n",
      "Bcalc > X2c --> Rejeita H0\n",
      "Amostras não possuem variâncias iguais\n"
     ]
    }
   ],
   "source": [
    "T_student_rols_Emparelhadas(t31,t32,0.05)"
   ]
  },
  {
   "cell_type": "code",
   "execution_count": 47,
   "metadata": {},
   "outputs": [
    {
     "name": "stdout",
     "output_type": "stream",
     "text": [
      "T-Student - Comparação de médias populacionais Emparelhadas\n",
      "\n",
      "Hipoteses:\n",
      "H0 --> Md = 0 \n",
      "H1 --> Md != 0\n",
      "\n",
      "Kolmogorov-Smirnov\n",
      "\n",
      "\n",
      "Dcalc < Dtab --> Aceita H0\n",
      "\n",
      "Kolmogorov-Smirnov\n",
      "\n",
      "\n",
      "Dcalc < Dtab --> Aceita H0\n",
      "Bartlett\n",
      "\n",
      "Hipoteses:\n",
      "H0 --> As variancias são iguais\n",
      "H1 --> As variancias não são iguais\n",
      "\n",
      "Bcalc > X2c --> Rejeita H0\n",
      "Amostras não possuem variâncias iguais\n"
     ]
    }
   ],
   "source": [
    "T_student_rols_Emparelhadas(t41,t42,0.05)"
   ]
  }
 ],
 "metadata": {
  "kernelspec": {
   "display_name": "Python 3",
   "language": "python",
   "name": "python3"
  },
  "language_info": {
   "codemirror_mode": {
    "name": "ipython",
    "version": 3
   },
   "file_extension": ".py",
   "mimetype": "text/x-python",
   "name": "python",
   "nbconvert_exporter": "python",
   "pygments_lexer": "ipython3",
   "version": "3.9.7"
  },
  "orig_nbformat": 4,
  "vscode": {
   "interpreter": {
    "hash": "c7eff589202d1b081309a21c1fcab32e7bd6b92ee77a4b4c9e08aff7652052eb"
   }
  }
 },
 "nbformat": 4,
 "nbformat_minor": 2
}
